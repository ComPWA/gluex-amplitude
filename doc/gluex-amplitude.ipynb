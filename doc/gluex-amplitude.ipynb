{
 "cells": [
  {
   "cell_type": "markdown",
   "metadata": {},
   "source": [
    "# GlueX amplitude model with SymPy"
   ]
  },
  {
   "cell_type": "markdown",
   "metadata": {},
   "source": [
    "Intensity function for two-pseudoscalar system:\n",
    "\n",
    "$$\n",
    "I(\\Omega,\\Phi) = 2\\kappa\\sum_{k}\\left((1-P_{\\gamma})\\left[\\sum_{l,m}[l]_{m;k}^{(-)}\\Re[Z_{l}^{m}(\\Omega,\\Phi)]\\right]^2+(1-P_{\\gamma})\\left[\\sum_{l,m}[l]_{m;k}^{(+)}\\Im[Z_{l}^{m}(\\Omega,\\Phi)]\\right]^2+(1+P_{\\gamma})\\left[\\sum_{l,m}[l]_{m;k}^{(+)}\\Re[Z_{l}^{m}(\\Omega,\\Phi)]\\right]^2+(1+P_{\\gamma})\\left[\\sum_{l,m}[l]_{m;k}^{(-)}\\Im[Z_{l}^{m}(\\Omega,\\Phi)]\\right]^2\\right)\n",
    "$$\n",
    "\n",
    "where $Z_{l}^{m}(\\Omega,\\Phi)=Y_{l}^{m}(\\Omega)e^{-i\\Phi}$ is a phase-rotated spherical harmonic, $\\Omega$ is the solid angle, $\\Phi$ is the angle between the production and polarization planes,  $P_{\\gamma}$ is the polarization magnitude, $[l]$ are the partial wave amplitudes, $m$ is the associated m-projection, $k$ refers to a spin flip ($k=1$) or non-flip ($k=0$) at the nucleon vertex, and $\\kappa$ is an overall phase space factor."
   ]
  },
  {
   "cell_type": "code",
   "execution_count": null,
   "metadata": {},
   "outputs": [],
   "source": [
    "import sympy as sp\n",
    "from ampform.sympy import PoolSum"
   ]
  }
 ],
 "metadata": {
  "kernelspec": {
   "display_name": "Python 3 (ipykernel)",
   "language": "python",
   "name": "python3"
  },
  "language_info": {
   "codemirror_mode": {
    "name": "ipython",
    "version": 3
   },
   "file_extension": ".py",
   "mimetype": "text/x-python",
   "name": "python",
   "nbconvert_exporter": "python",
   "pygments_lexer": "ipython3",
   "version": "3.10.12"
  }
 },
 "nbformat": 4,
 "nbformat_minor": 4
}
