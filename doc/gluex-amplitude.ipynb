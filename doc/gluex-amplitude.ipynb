{
 "cells": [
  {
   "cell_type": "markdown",
   "metadata": {},
   "source": [
    "# GlueX amplitude model with SymPy"
   ]
  },
  {
   "cell_type": "markdown",
   "metadata": {},
   "source": [
    "Intensity function for two-pseudoscalar system:\n",
    "\n",
    "$$\n",
    "I(\\Omega,\\Phi) = 2\\kappa\\sum_{k}\\left(\n",
    "  (1-P_{\\gamma})\\left[\\sum_{l,m}[l]_{m;k}^{(-)}\\Re[Z_{l}^{m}(\\Omega,\\Phi)]\\right]^2\n",
    "  +(1-P_{\\gamma})\\left[\\sum_{l,m}[l]_{m;k}^{(+)}\\Im[Z_{l}^{m}(\\Omega,\\Phi)]\\right]^2\n",
    "  +(1+P_{\\gamma})\\left[\\sum_{l,m}[l]_{m;k}^{(+)}\\Re[Z_{l}^{m}(\\Omega,\\Phi)]\\right]^2\n",
    "  +(1+P_{\\gamma})\\left[\\sum_{l,m}[l]_{m;k}^{(-)}\\Im[Z_{l}^{m}(\\Omega,\\Phi)]\\right]^2\n",
    "\\right)\n",
    "$$\n",
    "\n",
    "where $Z_{l}^{m}(\\Omega,\\Phi)=Y_{l}^{m}(\\Omega)e^{-i\\Phi}$ is a phase-rotated spherical harmonic, $\\Omega$ is the solid angle, $\\Phi$ is the angle between the production and polarization planes,  $P_{\\gamma}$ is the polarization magnitude, $[l]$ are the partial wave amplitudes, $m$ is the associated m-projection, $k$ refers to a spin flip ($k=1$) or non-flip ($k=0$) at the nucleon vertex, and $\\kappa$ is an overall phase space factor."
   ]
  },
  {
   "cell_type": "code",
   "execution_count": null,
   "metadata": {
    "jupyter": {
     "source_hidden": true
    }
   },
   "outputs": [],
   "source": [
    "from __future__ import annotations\n",
    "\n",
    "import sympy as sp\n",
    "from ampform.io import aslatex\n",
    "from ampform.sympy import PoolSum\n",
    "from IPython.display import Math\n",
    "from sympy.functions.special.spherical_harmonics import Ynm"
   ]
  },
  {
   "cell_type": "markdown",
   "metadata": {},
   "source": [
    "See [`Ynm`](https://docs.sympy.org/latest/modules/functions/special.html#sympy.functions.special.spherical_harmonics.Ynm) for more info."
   ]
  },
  {
   "cell_type": "code",
   "execution_count": null,
   "metadata": {},
   "outputs": [],
   "source": [
    "k, l, m = sp.symbols(\"k l m\")\n",
    "phi, theta, Phi = sp.symbols(\"phi theta Phi\")\n",
    "kappa = sp.Symbol(\"kappa\")\n",
    "Py = sp.Symbol(\"P_gamma\")"
   ]
  },
  {
   "cell_type": "code",
   "execution_count": null,
   "metadata": {
    "jupyter": {
     "source_hidden": true
    }
   },
   "outputs": [],
   "source": [
    "from ampform.sympy import (\n",
    "    UnevaluatedExpression,\n",
    "    create_expression,\n",
    "    implement_doit_method,\n",
    "    make_commutative,\n",
    ")\n",
    "\n",
    "\n",
    "@make_commutative\n",
    "@implement_doit_method\n",
    "class Znm(UnevaluatedExpression):\n",
    "    def __new__(cls, n, m, theta, phi, Phi, **hints) -> Znm:\n",
    "        return create_expression(cls, n, m, theta, phi, Phi, **hints)\n",
    "\n",
    "    def evaluate(self) -> sp.Mul:\n",
    "        n, m, theta, phi, Phi = self.args\n",
    "        return Ynm(l, m, theta, phi) * sp.exp(-sp.I * Phi)\n",
    "\n",
    "    def _latex(self, printer, *args):\n",
    "        n, m, theta, phi, Phi = map(printer._print, self.args)\n",
    "        return Rf\"Z_{n}^{m}({theta}, {phi}, {Phi})\""
   ]
  },
  {
   "cell_type": "code",
   "execution_count": null,
   "metadata": {},
   "outputs": [],
   "source": [
    "znm = Znm(l, m, theta, phi, Phi)\n",
    "Math(aslatex({znm: znm.doit()}))"
   ]
  }
 ],
 "metadata": {
  "kernelspec": {
   "display_name": "Python 3 (ipykernel)",
   "language": "python",
   "name": "python3"
  },
  "language_info": {
   "codemirror_mode": {
    "name": "ipython",
    "version": 3
   },
   "file_extension": ".py",
   "mimetype": "text/x-python",
   "name": "python",
   "nbconvert_exporter": "python",
   "pygments_lexer": "ipython3",
   "version": "3.10.12"
  }
 },
 "nbformat": 4,
 "nbformat_minor": 4
}
