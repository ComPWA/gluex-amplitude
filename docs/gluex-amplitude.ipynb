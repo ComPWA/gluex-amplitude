{
 "cells": [
  {
   "cell_type": "markdown",
   "metadata": {
    "editable": true,
    "slideshow": {
     "slide_type": ""
    },
    "tags": []
   },
   "source": [
    "# Symbolic amplitude model"
   ]
  },
  {
   "cell_type": "markdown",
   "metadata": {},
   "source": [
    "Intensity function for two-pseudoscalar system:\n",
    "\n",
    "$$\n",
    "I(\\Omega,\\Phi) = 2\\kappa\\sum_{k}\\left(\n",
    "  (1-P_{\\gamma})\\left|\\sum_{l,m}[l]_{m;k}^{(-)}\\Re[Z_{l}^{m}(\\Omega,\\Phi)]\\right|^2\n",
    "  +(1-P_{\\gamma})\\left|\\sum_{l,m}[l]_{m;k}^{(+)}\\Im[Z_{l}^{m}(\\Omega,\\Phi)]\\right|^2\n",
    "  +(1+P_{\\gamma})\\left|\\sum_{l,m}[l]_{m;k}^{(+)}\\Re[Z_{l}^{m}(\\Omega,\\Phi)]\\right|^2\n",
    "  +(1+P_{\\gamma})\\left|\\sum_{l,m}[l]_{m;k}^{(-)}\\Im[Z_{l}^{m}(\\Omega,\\Phi)]\\right|^2\n",
    "\\right)\n",
    "$$\n",
    "\n",
    "where $Z_{l}^{m}(\\Omega,\\Phi)=Y_{l}^{m}(\\Omega)e^{-i\\Phi}$ is a phase-rotated spherical harmonic, $\\Omega$ is the solid angle, $\\Phi$ is the angle between the production and polarization planes,  $P_{\\gamma}$ is the polarization magnitude, $[l]$ are the partial wave amplitudes, $m$ is the associated m-projection, $k$ refers to a spin flip ($k=1$) or non-flip ($k=0$) at the nucleon vertex, and $\\kappa$ is an overall phase space factor."
   ]
  },
  {
   "cell_type": "markdown",
   "metadata": {},
   "source": [
    "## Main intensity definition"
   ]
  },
  {
   "cell_type": "code",
   "execution_count": null,
   "metadata": {
    "editable": true,
    "jupyter": {
     "source_hidden": true
    },
    "mystnb": {
     "code_prompt_show": "Import Python modules"
    },
    "slideshow": {
     "slide_type": ""
    },
    "tags": [
     "hide-input"
    ]
   },
   "outputs": [],
   "source": [
    "from __future__ import annotations\n",
    "\n",
    "import sympy as sp\n",
    "from ampform.io import aslatex\n",
    "from ampform.sympy import PoolSum\n",
    "from IPython.display import Math\n",
    "from sympy.functions.special.spherical_harmonics import Ynm"
   ]
  },
  {
   "cell_type": "code",
   "execution_count": null,
   "metadata": {
    "editable": true,
    "jupyter": {
     "source_hidden": true
    },
    "mystnb": {
     "code_prompt_show": "Match SymPy LaTeX rendering"
    },
    "slideshow": {
     "slide_type": ""
    },
    "tags": [
     "hide-input"
    ]
   },
   "outputs": [],
   "source": [
    "from sympy.printing.precedence import PRECEDENCE\n",
    "from sympy.printing.printer import Printer\n",
    "\n",
    "\n",
    "def _print_Indexed_latex(self, printer, *args):\n",
    "    base = printer._print(self.base)\n",
    "    indices = \", \".join(map(printer._print, self.indices))\n",
    "    return f\"{base}_{{{indices}}}\"\n",
    "\n",
    "\n",
    "sp.Indexed.precedence = PRECEDENCE[\"Pow\"] - 1\n",
    "sp.Indexed._latex = _print_Indexed_latex\n",
    "Printer._global_settings[\"gothic_re_im\"] = True"
   ]
  },
  {
   "cell_type": "code",
   "execution_count": null,
   "metadata": {
    "editable": true,
    "slideshow": {
     "slide_type": ""
    },
    "tags": []
   },
   "outputs": [],
   "source": [
    "k, l, m = sp.symbols(\"k l m\")\n",
    "phi, theta, Phi = sp.symbols(\"phi theta Phi\", real=True)\n",
    "kappa = sp.Symbol(\"kappa\")\n",
    "Py = sp.Symbol(\"P_gamma\")"
   ]
  },
  {
   "cell_type": "code",
   "execution_count": null,
   "metadata": {
    "editable": true,
    "jupyter": {
     "source_hidden": true
    },
    "mystnb": {
     "code_prompt_show": "Define symbolic Zlm class"
    },
    "slideshow": {
     "slide_type": ""
    },
    "tags": [
     "hide-input"
    ]
   },
   "outputs": [],
   "source": [
    "from ampform.sympy import (\n",
    "    UnevaluatedExpression,\n",
    "    create_expression,\n",
    "    implement_doit_method,\n",
    ")\n",
    "\n",
    "\n",
    "@implement_doit_method\n",
    "class Znm(UnevaluatedExpression):\n",
    "    is_commutative = True\n",
    "    is_real = False\n",
    "\n",
    "    def __new__(cls, n, m, theta, phi, Phi, **hints) -> Znm:\n",
    "        return create_expression(cls, n, m, theta, phi, Phi, **hints)\n",
    "\n",
    "    def evaluate(self) -> sp.Mul:\n",
    "        n, m, theta, phi, Phi = self.args\n",
    "        return Ynm(n, m, theta, phi) * sp.exp(-sp.I * Phi)\n",
    "\n",
    "    def _latex(self, printer, *args):\n",
    "        n, m, theta, phi, Phi = map(printer._print, self.args)\n",
    "        return Rf\"Z_{n}^{m}({theta}, {phi}, {Phi})\""
   ]
  },
  {
   "cell_type": "code",
   "execution_count": null,
   "metadata": {
    "editable": true,
    "slideshow": {
     "slide_type": ""
    },
    "tags": []
   },
   "outputs": [],
   "source": [
    "znm = Znm(l, m, theta, phi, Phi)\n",
    "Math(aslatex({znm: znm.doit()}))"
   ]
  },
  {
   "cell_type": "code",
   "execution_count": null,
   "metadata": {
    "editable": true,
    "jupyter": {
     "source_hidden": true
    },
    "slideshow": {
     "slide_type": ""
    },
    "tags": [
     "remove-cell"
    ]
   },
   "outputs": [],
   "source": [
    "assert sp.im(znm) != 0"
   ]
  },
  {
   "cell_type": "code",
   "execution_count": null,
   "metadata": {
    "editable": true,
    "jupyter": {
     "source_hidden": true
    },
    "slideshow": {
     "slide_type": ""
    },
    "tags": [
     "scroll-input",
     "hide-input",
     "full-width"
    ]
   },
   "outputs": [],
   "source": [
    "from qrules.quantum_numbers import arange\n",
    "\n",
    "\n",
    "def create_range(__min, __max) -> tuple[sp.Rational, ...]:\n",
    "    return tuple(sp.Rational(x) for x in arange(__min, __max + 1))\n",
    "\n",
    "\n",
    "max_l = 0\n",
    "k_values = [0]\n",
    "l_range = [2]  # create_range(0, max_l)\n",
    "m_range = [0]  # create_range(-max_l, max_l)\n",
    "lp = sp.IndexedBase(\"[l]^{(+)}\", complex=True)\n",
    "lm = sp.IndexedBase(\"[l]^{(-)}\", complex=True)\n",
    "\n",
    "intensity_expr = (\n",
    "    2\n",
    "    * kappa\n",
    "    * PoolSum(\n",
    "        (1 - Py)\n",
    "        * sp.Abs(PoolSum(lm[m, k] * sp.re(znm), (l, l_range), (m, m_range))) ** 2\n",
    "        + (1 - Py)\n",
    "        * sp.Abs(PoolSum(lp[m, k] * sp.im(znm), (l, l_range), (m, m_range))) ** 2\n",
    "        + (1 + Py)\n",
    "        * sp.Abs(PoolSum(lp[m, k] * sp.re(znm), (l, l_range), (m, m_range))) ** 2\n",
    "        + (1 + Py)\n",
    "        * sp.Abs(PoolSum(lm[m, k] * sp.im(znm), (l, l_range), (m, m_range))) ** 2,\n",
    "        (k, k_values),\n",
    "    )\n",
    ")\n",
    "intensity_expr"
   ]
  },
  {
   "cell_type": "code",
   "execution_count": null,
   "metadata": {
    "editable": true,
    "slideshow": {
     "slide_type": ""
    },
    "tags": [
     "full-width"
    ]
   },
   "outputs": [],
   "source": [
    "intensity_expr.doit()"
   ]
  },
  {
   "cell_type": "markdown",
   "metadata": {},
   "source": [
    "## Suggested parameter values"
   ]
  },
  {
   "cell_type": "code",
   "execution_count": null,
   "metadata": {
    "editable": true,
    "mystnb": {
     "code_prompt_show": "Define suggested parameter values"
    },
    "slideshow": {
     "slide_type": ""
    },
    "tags": [
     "hide-input"
    ]
   },
   "outputs": [],
   "source": [
    "lp_defaults = {lp[m, k]: 1 for k in k_values for m in m_range}\n",
    "lm_defaults = {lm[m, k]: 1 for k in k_values for m in m_range}\n",
    "parameter_defaults = {\n",
    "    Py: 1,\n",
    "    kappa: sp.pi,\n",
    "    **lp_defaults,\n",
    "    **lm_defaults,\n",
    "}"
   ]
  },
  {
   "cell_type": "code",
   "execution_count": null,
   "metadata": {
    "editable": true,
    "slideshow": {
     "slide_type": ""
    },
    "tags": []
   },
   "outputs": [],
   "source": [
    "substituted_expr = intensity_expr.doit().xreplace(parameter_defaults)\n",
    "substituted_expr"
   ]
  },
  {
   "cell_type": "code",
   "execution_count": null,
   "metadata": {},
   "outputs": [],
   "source": [
    "substituted_expr.simplify()"
   ]
  },
  {
   "cell_type": "markdown",
   "metadata": {},
   "source": [
    "## Phase space investigation"
   ]
  },
  {
   "cell_type": "code",
   "execution_count": null,
   "metadata": {},
   "outputs": [],
   "source": [
    "intensity_expr.doit().free_symbols"
   ]
  },
  {
   "cell_type": "code",
   "execution_count": null,
   "metadata": {},
   "outputs": [],
   "source": [
    "plotted_expr = intensity_expr.doit().xreplace({kappa: sp.pi})\n",
    "arguments = (theta, phi, Phi, Py, lm[m_range[0], 0], lp[m_range[0], 0])\n",
    "intensity_func = sp.lambdify(arguments, plotted_expr, \"numpy\")\n",
    "intensity_func"
   ]
  },
  {
   "cell_type": "code",
   "execution_count": null,
   "metadata": {},
   "outputs": [],
   "source": [
    "import numpy as np\n",
    "\n",
    "resolution = 100\n",
    "cos_theta_array, phi_array = np.meshgrid(\n",
    "    np.linspace(-1, +1, num=resolution),\n",
    "    np.linspace(0, 2 * np.pi, num=resolution),\n",
    ")\n",
    "theta_array = np.arccos(cos_theta_array)"
   ]
  },
  {
   "cell_type": "code",
   "execution_count": null,
   "metadata": {
    "jupyter": {
     "source_hidden": true
    }
   },
   "outputs": [],
   "source": [
    "lm_val = 0  # -0.3 + 0.2j\n",
    "lp_val = 0.4 - 0.1j\n",
    "Py_val = 1\n",
    "Phi_val = 0\n",
    "intensity_array = intensity_func(\n",
    "    theta_array,\n",
    "    phi_array,\n",
    "    Phi_val,\n",
    "    Py_val,\n",
    "    lm_val,\n",
    "    lp_val,\n",
    ")\n",
    "intensity_array.shape"
   ]
  },
  {
   "cell_type": "code",
   "execution_count": null,
   "metadata": {
    "jupyter": {
     "source_hidden": true
    },
    "tags": [
     "hide-input",
     "scroll-input"
    ]
   },
   "outputs": [],
   "source": [
    "%matplotlib widget\n",
    "import ipywidgets as w\n",
    "import matplotlib.pyplot as plt\n",
    "\n",
    "fig, ax = plt.subplots(figsize=(7, 4))\n",
    "ax.set_xlabel(R\"$\\phi$\")\n",
    "ax.set_ylabel(R\"$\\cos\\theta$\")\n",
    "MESH = None\n",
    "\n",
    "\n",
    "sliders = dict(\n",
    "    Phi_val=w.FloatSlider(\n",
    "        description=\"Φ\",\n",
    "        min=0,\n",
    "        max=np.pi,\n",
    "        value=1,\n",
    "        step=np.pi / 10,\n",
    "    ),\n",
    "    Py_val=w.FloatSlider(\n",
    "        description=\"Pγ\",\n",
    "        min=0,\n",
    "        max=1,\n",
    "        value=1,\n",
    "        step=0.1,\n",
    "    ),\n",
    "    lm00_mag=w.FloatSlider(\n",
    "        description=\"mag\",\n",
    "        min=0,\n",
    "        max=2,\n",
    "        value=1,\n",
    "    ),\n",
    "    lm00_phi=w.FloatSlider(\n",
    "        description=\"phase\",\n",
    "        min=0,\n",
    "        max=2 * np.pi,\n",
    "        step=np.pi / 10,\n",
    "        value=0,\n",
    "    ),\n",
    "    lp00_mag=w.FloatSlider(\n",
    "        description=\"mag\",\n",
    "        min=0,\n",
    "        max=2,\n",
    "        value=0,\n",
    "    ),\n",
    "    lp00_phi=w.FloatSlider(\n",
    "        description=\"phase\",\n",
    "        min=0,\n",
    "        max=2 * np.pi,\n",
    "        step=np.pi / 10,\n",
    "        value=0,\n",
    "    ),\n",
    "    complex_rendering=w.RadioButtons(\n",
    "        options=[\"real\", \"imag\"],\n",
    "        description=\"Complex Rendering:\",\n",
    "    ),\n",
    ")\n",
    "\n",
    "\n",
    "def plot(\n",
    "    *, Phi_val, Py_val, lm00_mag, lm00_phi, lp00_mag, lp00_phi, complex_rendering\n",
    "):\n",
    "    global MESH\n",
    "    Z = intensity_func(\n",
    "        theta_array,\n",
    "        phi_array,\n",
    "        Phi_val,\n",
    "        Py_val,\n",
    "        lm00_mag * np.exp(lm00_phi * 1j),\n",
    "        lp00_mag * np.exp(lp00_phi * 1j),\n",
    "    )\n",
    "\n",
    "    if complex_rendering == \"imag\":\n",
    "        Z = Z.imag\n",
    "        ax.set_title(\"Im $T$\")\n",
    "    elif complex_rendering == \"real\":\n",
    "        Z = Z.real\n",
    "        ax.set_title(\"Re $T$\")\n",
    "    else:\n",
    "        raise NotImplementedError\n",
    "\n",
    "    if MESH is None:\n",
    "        MESH = ax.pcolormesh(phi_array, cos_theta_array, Z, cmap=plt.cm.coolwarm)\n",
    "    else:\n",
    "        MESH.set_array(Z)\n",
    "    fig.canvas.draw()\n",
    "\n",
    "\n",
    "UI = w.VBox(\n",
    "    [\n",
    "        sliders[\"complex_rendering\"],\n",
    "        sliders[\"Phi_val\"],\n",
    "        sliders[\"Py_val\"],\n",
    "        w.HBox([w.Label(\"[l]⁻₀₀\"), sliders[\"lp00_mag\"], sliders[\"lp00_phi\"]]),\n",
    "        w.HBox([w.Label(\"[l]⁺₀₀\"), sliders[\"lm00_mag\"], sliders[\"lm00_phi\"]]),\n",
    "    ]\n",
    ")\n",
    "output = w.interactive_output(plot, controls=sliders)\n",
    "w.VBox([UI, output])"
   ]
  }
 ],
 "metadata": {
  "kernelspec": {
   "display_name": "Python 3 (ipykernel)",
   "language": "python",
   "name": "python3"
  },
  "language_info": {
   "codemirror_mode": {
    "name": "ipython",
    "version": 3
   },
   "file_extension": ".py",
   "mimetype": "text/x-python",
   "name": "python",
   "nbconvert_exporter": "python",
   "pygments_lexer": "ipython3",
   "version": "3.10.12"
  }
 },
 "nbformat": 4,
 "nbformat_minor": 4
}
