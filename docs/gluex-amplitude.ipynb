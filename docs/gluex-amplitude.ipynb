{
 "cells": [
  {
   "cell_type": "markdown",
   "metadata": {},
   "source": [
    "# GlueX amplitude model with SymPy"
   ]
  },
  {
   "cell_type": "markdown",
   "metadata": {},
   "source": [
    "Intensity function for two-pseudoscalar system:\n",
    "\n",
    "$$\n",
    "I(\\Omega,\\Phi) = 2\\kappa\\sum_{k}\\left(\n",
    "  (1-P_{\\gamma})\\left[\\sum_{l,m}[l]_{m;k}^{(-)}\\Re[Z_{l}^{m}(\\Omega,\\Phi)]\\right]^2\n",
    "  +(1-P_{\\gamma})\\left[\\sum_{l,m}[l]_{m;k}^{(+)}\\Im[Z_{l}^{m}(\\Omega,\\Phi)]\\right]^2\n",
    "  +(1+P_{\\gamma})\\left[\\sum_{l,m}[l]_{m;k}^{(+)}\\Re[Z_{l}^{m}(\\Omega,\\Phi)]\\right]^2\n",
    "  +(1+P_{\\gamma})\\left[\\sum_{l,m}[l]_{m;k}^{(-)}\\Im[Z_{l}^{m}(\\Omega,\\Phi)]\\right]^2\n",
    "\\right)\n",
    "$$\n",
    "\n",
    "where $Z_{l}^{m}(\\Omega,\\Phi)=Y_{l}^{m}(\\Omega)e^{-i\\Phi}$ is a phase-rotated spherical harmonic, $\\Omega$ is the solid angle, $\\Phi$ is the angle between the production and polarization planes,  $P_{\\gamma}$ is the polarization magnitude, $[l]$ are the partial wave amplitudes, $m$ is the associated m-projection, $k$ refers to a spin flip ($k=1$) or non-flip ($k=0$) at the nucleon vertex, and $\\kappa$ is an overall phase space factor."
   ]
  },
  {
   "cell_type": "code",
   "execution_count": null,
   "metadata": {
    "jupyter": {
     "source_hidden": true
    }
   },
   "outputs": [],
   "source": [
    "from __future__ import annotations\n",
    "\n",
    "import sympy as sp\n",
    "from ampform.io import aslatex\n",
    "from ampform.sympy import PoolSum\n",
    "from IPython.display import Math\n",
    "from sympy.functions.special.spherical_harmonics import Ynm"
   ]
  },
  {
   "cell_type": "code",
   "execution_count": null,
   "metadata": {
    "jupyter": {
     "source_hidden": true
    }
   },
   "outputs": [],
   "source": [
    "from sympy.printing.printer import Printer\n",
    "\n",
    "\n",
    "def _print_Indexed_latex(self, printer, *args):\n",
    "    base = printer._print(self.base)\n",
    "    indices = \", \".join(map(printer._print, self.indices))\n",
    "    return f\"{base}_{{{indices}}}\"\n",
    "\n",
    "\n",
    "sp.Indexed._latex = _print_Indexed_latex\n",
    "Printer._global_settings[\"gothic_re_im\"] = True"
   ]
  },
  {
   "cell_type": "code",
   "execution_count": null,
   "metadata": {},
   "outputs": [],
   "source": [
    "k, l, m = sp.symbols(\"k l m\")\n",
    "phi, theta, Phi = sp.symbols(\"phi theta Phi\")\n",
    "kappa = sp.Symbol(\"kappa\")\n",
    "Py = sp.Symbol(\"P_gamma\")"
   ]
  },
  {
   "cell_type": "code",
   "execution_count": null,
   "metadata": {
    "jupyter": {
     "source_hidden": true
    }
   },
   "outputs": [],
   "source": [
    "from ampform.sympy import (\n",
    "    UnevaluatedExpression,\n",
    "    create_expression,\n",
    "    implement_doit_method,\n",
    ")\n",
    "\n",
    "\n",
    "@implement_doit_method\n",
    "class Znm(UnevaluatedExpression):\n",
    "    is_commutative = True\n",
    "    is_real = False\n",
    "\n",
    "    def __new__(cls, n, m, theta, phi, Phi, **hints) -> Znm:\n",
    "        return create_expression(cls, n, m, theta, phi, Phi, **hints)\n",
    "\n",
    "    def evaluate(self) -> sp.Mul:\n",
    "        n, m, theta, phi, Phi = self.args\n",
    "        return Ynm(l, m, theta, phi) * sp.exp(-sp.I * Phi)\n",
    "\n",
    "    def _latex(self, printer, *args):\n",
    "        n, m, theta, phi, Phi = map(printer._print, self.args)\n",
    "        return Rf\"Z_{n}^{m}({theta}, {phi}, {Phi})\""
   ]
  },
  {
   "cell_type": "code",
   "execution_count": null,
   "metadata": {},
   "outputs": [],
   "source": [
    "znm = Znm(l, m, theta, phi, Phi)\n",
    "Math(aslatex({znm: znm.doit()}))"
   ]
  },
  {
   "cell_type": "code",
   "execution_count": null,
   "metadata": {
    "jupyter": {
     "source_hidden": true
    }
   },
   "outputs": [],
   "source": [
    "assert sp.im(znm) != 0"
   ]
  },
  {
   "cell_type": "code",
   "execution_count": null,
   "metadata": {
    "jupyter": {
     "source_hidden": true
    }
   },
   "outputs": [],
   "source": [
    "from qrules.quantum_numbers import arange\n",
    "\n",
    "\n",
    "def create_range(__min, __max) -> tuple[sp.Rational, ...]:\n",
    "    return tuple(sp.Rational(x) for x in arange(__min, __max))\n",
    "\n",
    "\n",
    "max_l = 1\n",
    "l_range = create_range(0, max_l)\n",
    "m_range = create_range(-max_l, max_l)\n",
    "lp = sp.IndexedBase(\"[l]^{(+)}\", complex=True)\n",
    "lm = sp.IndexedBase(\"[l]^{(-)}\", complex=True)\n",
    "\n",
    "intensity_expr = (\n",
    "    2\n",
    "    * kappa\n",
    "    * PoolSum(\n",
    "        (1 - Py) * (PoolSum(lm[m, k] * sp.re(znm), (l, l_range), (m, m_range))) ** 2\n",
    "        + (1 - Py) * (PoolSum(lp[m, k] * sp.im(znm), (l, l_range), (m, m_range))) ** 2\n",
    "        + (1 + Py) * (PoolSum(lp[m, k] * sp.re(znm), (l, l_range), (m, m_range))) ** 2\n",
    "        + (1 + Py) * (PoolSum(lm[m, k] * sp.im(znm), (l, l_range), (m, m_range))) ** 2,\n",
    "        (k, [-1, +1]),\n",
    "    )\n",
    ")\n",
    "intensity_expr"
   ]
  }
 ],
 "metadata": {
  "kernelspec": {
   "display_name": "Python 3 (ipykernel)",
   "language": "python",
   "name": "python3"
  },
  "language_info": {
   "codemirror_mode": {
    "name": "ipython",
    "version": 3
   },
   "file_extension": ".py",
   "mimetype": "text/x-python",
   "name": "python",
   "nbconvert_exporter": "python",
   "pygments_lexer": "ipython3",
   "version": "3.10.12"
  }
 },
 "nbformat": 4,
 "nbformat_minor": 4
}
