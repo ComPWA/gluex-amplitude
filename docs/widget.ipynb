{
 "cells": [
  {
   "cell_type": "markdown",
   "metadata": {},
   "source": [
    "# Amplitude behavior investigation"
   ]
  },
  {
   "cell_type": "markdown",
   "metadata": {},
   "source": [
    "```{autolink-concat}\n",
    "```"
   ]
  },
  {
   "cell_type": "markdown",
   "metadata": {},
   "source": [
    ":::{tip}\n",
    "[▶️](lite/lab?path=widget.ipynb) Run this notebook interactively [here](lite/lab?path=widget.ipynb).\n",
    ":::"
   ]
  },
  {
   "cell_type": "markdown",
   "metadata": {},
   "source": [
    "Intensity function for two-pseudoscalar system:\n",
    "\n",
    "```{math}\n",
    ":class: full-width\n",
    ":label: two-pseudoscalar-intensity\n",
    "I(\\Omega,\\Phi) = 2\\kappa\\sum_{k}\\left(\n",
    "  (1-P_{\\gamma})\\left|\\sum_{l,m}[l]_{m;k}^{(-)}\\Re[Z_{l}^{m}(\\Omega,\\Phi)]\\right|^2\n",
    "  +(1-P_{\\gamma})\\left|\\sum_{l,m}[l]_{m;k}^{(+)}\\Im[Z_{l}^{m}(\\Omega,\\Phi)]\\right|^2\n",
    "  +(1+P_{\\gamma})\\left|\\sum_{l,m}[l]_{m;k}^{(+)}\\Re[Z_{l}^{m}(\\Omega,\\Phi)]\\right|^2\n",
    "  +(1+P_{\\gamma})\\left|\\sum_{l,m}[l]_{m;k}^{(-)}\\Im[Z_{l}^{m}(\\Omega,\\Phi)]\\right|^2\n",
    "\\right)\n",
    "```\n",
    "\n",
    "where $Z_{l}^{m}(\\Omega,\\Phi)=Y_{l}^{m}(\\Omega)e^{-i\\Phi}$ is a phase-rotated spherical harmonic, $\\Omega$ is the solid angle, $\\Phi$ is the angle between the production and polarization planes,  $P_{\\gamma}$ is the polarization magnitude, $[l]$ are the partial wave amplitudes, $m$ is the associated m-projection, $k$ refers to a spin flip ($k=1$) or non-flip ($k=0$) at the nucleon vertex, and $\\kappa$ is an overall phase space factor.\n",
    "\n",
    ":::{figure} feynman-gluex-two-pseudoscalar.svg\n",
    ":::"
   ]
  },
  {
   "cell_type": "code",
   "execution_count": null,
   "metadata": {
    "jupyter": {
     "source_hidden": true
    },
    "mystnb": {
     "code_prompt_show": "Import Python modules"
    },
    "tags": [
     "hide-input",
     "scroll-input"
    ]
   },
   "outputs": [],
   "source": [
    "from collections import defaultdict\n",
    "from typing import Self\n",
    "\n",
    "import ipywidgets as w\n",
    "import matplotlib.pyplot as plt\n",
    "import numpy as np\n",
    "import sympy as sp\n",
    "from ampform.io import aslatex\n",
    "from ampform.sympy import (\n",
    "    PoolSum,\n",
    "    UnevaluatedExpression,\n",
    "    create_expression,\n",
    "    implement_doit_method,\n",
    ")\n",
    "from IPython.display import Math\n",
    "from qrules.quantum_numbers import arange\n",
    "from sympy.functions.special.spherical_harmonics import Ynm\n",
    "from sympy.printing.precedence import PRECEDENCE\n",
    "from sympy.printing.printer import Printer\n",
    "\n",
    "\n",
    "def _print_Indexed_latex(self, printer, *args):  # noqa: N802\n",
    "    base = printer._print(self.base)\n",
    "    indices = \", \".join(map(printer._print, self.indices))\n",
    "    return f\"{base}_{{{indices}}}\"\n",
    "\n",
    "\n",
    "sp.Indexed.precedence = PRECEDENCE[\"Pow\"] - 1\n",
    "sp.Indexed._latex = _print_Indexed_latex\n",
    "Printer._global_settings[\"gothic_re_im\"] = True"
   ]
  },
  {
   "cell_type": "markdown",
   "metadata": {},
   "source": [
    "## Main intensity definition"
   ]
  },
  {
   "cell_type": "markdown",
   "metadata": {},
   "source": [
    "We build the amplitude symbolically and step by step using [SymPy](https://docs.sympy.org). Of course, we can automate things here later, but defining everything step-by-step gives us most control. Let's start by defining the main symbols that appear in amplitude expression in Eq.&nbsp;{eq}`two-pseudoscalar-intensity`."
   ]
  },
  {
   "cell_type": "code",
   "execution_count": null,
   "metadata": {},
   "outputs": [],
   "source": [
    "k, l, m = sp.symbols(\"k l m\")\n",
    "phi, theta, Phi = sp.symbols(\"phi theta Phi\", real=True)\n",
    "kappa = sp.Symbol(\"kappa\")\n",
    "Py = sp.Symbol(\"P_gamma\")"
   ]
  },
  {
   "cell_type": "markdown",
   "metadata": {},
   "source": [
    "Next, we define a special handler class for nicely rendering the $Z_m^l(\\theta,\\phi,\\Phi)$ function:"
   ]
  },
  {
   "cell_type": "code",
   "execution_count": null,
   "metadata": {
    "mystnb": {
     "code_prompt_show": "Define symbolic Zlm class"
    },
    "tags": [
     "hide-input"
    ]
   },
   "outputs": [],
   "source": [
    "@implement_doit_method\n",
    "class Znm(UnevaluatedExpression):\n",
    "    is_commutative = True\n",
    "    is_real = False\n",
    "\n",
    "    def __new__(cls, n, m, theta, phi, Phi, **hints) -> Self:\n",
    "        return create_expression(cls, n, m, theta, phi, Phi, **hints)\n",
    "\n",
    "    def evaluate(self) -> sp.Mul:\n",
    "        n, m, theta, phi, Phi = self.args\n",
    "        return Ynm(n, m, theta, phi) * sp.exp(-sp.I * Phi)\n",
    "\n",
    "    def _latex(self, printer, *args):\n",
    "        n, m, theta, phi, Phi = map(printer._print, self.args)\n",
    "        return Rf\"Z_{n}^{m}({theta}, {phi}, {Phi})\""
   ]
  },
  {
   "cell_type": "code",
   "execution_count": null,
   "metadata": {},
   "outputs": [],
   "source": [
    "znm = Znm(l, m, theta, phi, Phi)\n",
    "Math(aslatex({znm: znm.doit()}))"
   ]
  },
  {
   "cell_type": "code",
   "execution_count": null,
   "metadata": {
    "jupyter": {
     "source_hidden": true
    },
    "tags": [
     "remove-cell"
    ]
   },
   "outputs": [],
   "source": [
    "assert sp.im(znm) != 0"
   ]
  },
  {
   "cell_type": "markdown",
   "metadata": {},
   "source": [
    "We're now ready to define the main intensity. Note the use of [`IndexedBase`](https://docs.sympy.org/latest/modules/tensor/indexed.html#sympy.tensor.indexed.IndexedBase) for generating the $[l]^{(\\pm)}_{m;k}$ symbols and the use of [`PoolSum`](https://ampform.readthedocs.io/0.15.x/api/ampform.sympy.html#ampform.sympy.PoolSum), which is more suited for nested sums than SymPy's [`Sum`](https://docs.sympy.org/latest/modules/concrete.html#sympy.concrete.summations.Sum) class."
   ]
  },
  {
   "cell_type": "code",
   "execution_count": null,
   "metadata": {
    "tags": [
     "scroll-input",
     "hide-input",
     "full-width"
    ]
   },
   "outputs": [],
   "source": [
    "def create_range(min_, max_, /) -> tuple[sp.Rational, ...]:\n",
    "    return tuple(sp.Rational(x) for x in arange(min_, max_ + 1))\n",
    "\n",
    "\n",
    "max_l = 2\n",
    "k_values = [0]\n",
    "l_range = [max_l]  # create_range(0, max_l)\n",
    "m_range = create_range(-max_l, max_l)\n",
    "lp = sp.IndexedBase(\"[l]^{(+)}\", complex=True)\n",
    "lm = sp.IndexedBase(\"[l]^{(-)}\", complex=True)\n",
    "\n",
    "intensity_expr = (\n",
    "    2\n",
    "    * kappa\n",
    "    * PoolSum(\n",
    "        (1 - Py)\n",
    "        * sp.Abs(PoolSum(lm[m, k] * sp.re(znm), (l, l_range), (m, m_range))) ** 2\n",
    "        + (1 - Py)\n",
    "        * sp.Abs(PoolSum(lp[m, k] * sp.im(znm), (l, l_range), (m, m_range))) ** 2\n",
    "        + (1 + Py)\n",
    "        * sp.Abs(PoolSum(lp[m, k] * sp.re(znm), (l, l_range), (m, m_range))) ** 2\n",
    "        + (1 + Py)\n",
    "        * sp.Abs(PoolSum(lm[m, k] * sp.im(znm), (l, l_range), (m, m_range))) ** 2,\n",
    "        (k, k_values),\n",
    "    )\n",
    ")\n",
    "intensity_expr"
   ]
  },
  {
   "cell_type": "markdown",
   "metadata": {},
   "source": [
    "SymPy can 'unfold' all definitons like $Z^m_l$ and $\\sum_{m;k}$ into basic mathematical operations as follows. This is not only a nice mathematical exercise, but is crucial for when we use the expression to create a numerical function with [lambdification](https://docs.sympy.org/latest/modules/utilities/lambdify.html)."
   ]
  },
  {
   "cell_type": "code",
   "execution_count": null,
   "metadata": {
    "tags": [
     "full-width",
     "hide-output"
    ]
   },
   "outputs": [],
   "source": [
    "sp.expand_func(intensity_expr.doit())"
   ]
  },
  {
   "cell_type": "markdown",
   "metadata": {},
   "source": [
    "## Analytic substitution"
   ]
  },
  {
   "cell_type": "markdown",
   "metadata": {},
   "source": [
    "Before we go into numerical computations, let's try what happens when we substitute certain parameters analytically with SymPy. First, we define a mapping of symbols in our expressions to values with which they should be substituted."
   ]
  },
  {
   "cell_type": "code",
   "execution_count": null,
   "metadata": {
    "mystnb": {
     "code_prompt_show": "Define suggested parameter values"
    },
    "tags": [
     "hide-input"
    ]
   },
   "outputs": [],
   "source": [
    "lp_defaults = {lp[m, k]: 0 for k in k_values for m in m_range}\n",
    "lm_defaults = {lm[m, k]: 1 for k in k_values for m in m_range}\n",
    "parameter_defaults = {\n",
    "    Py: 1,\n",
    "    kappa: sp.pi,\n",
    "    **lp_defaults,\n",
    "    **lm_defaults,\n",
    "}"
   ]
  },
  {
   "cell_type": "markdown",
   "metadata": {},
   "source": [
    "This mapping can then be used to substitute the symbols in our 'unfolded' expression analytically. Note the use of [`xreplace()`](https://docs.sympy.org/latest/modules/core.html#sympy.core.basic.Basic.xreplace), which is faster than [`subs()`](https://docs.sympy.org/latest/modules/core.html#sympy.core.basic.Basic.subs):"
   ]
  },
  {
   "cell_type": "code",
   "execution_count": null,
   "metadata": {
    "tags": [
     "full-width"
    ]
   },
   "outputs": [],
   "source": [
    "substituted_expr = intensity_expr.doit().xreplace(parameter_defaults)\n",
    "substituted_expr"
   ]
  },
  {
   "cell_type": "markdown",
   "metadata": {},
   "source": [
    "The expression can be further unfolded and simplified as follows:"
   ]
  },
  {
   "cell_type": "code",
   "execution_count": null,
   "metadata": {
    "tags": [
     "full-width"
    ]
   },
   "outputs": [],
   "source": [
    "sp.expand_func(substituted_expr).simplify()"
   ]
  },
  {
   "cell_type": "markdown",
   "metadata": {},
   "source": [
    "## Widget for investigating amplitude behavior"
   ]
  },
  {
   "cell_type": "markdown",
   "metadata": {},
   "source": [
    "SymPy is not suitable for evaluating expressions over large data samples. For this, we need to [lambdify](https://docs.sympy.org/latest/modules/utilities/lambdify.html) our main expression to a numerical function that uses faster backends, such as [NumPy](https://numpy.org) or [JAX](https://docs.jax.dev).\n",
    "\n",
    "In this section, we use this mechanism to evaluate the intensity function over a uniform $(\\theta,\\phi)$&nbsp;phase space grid sample. To get an idea of performance, we make the visualisation of the intensity distribution interactive with [`ipywidgets`](https://ipywidgets.readthedocs.io/en/stable/examples/Widget%20List.html) sliders that allow us to modify the parameters and amplitudes in our model, as well as chose specific values for $\\Phi$.\n",
    "\n",
    "Our phase space grid sample is defined as follows. Note that the grid is defined in terms of $\\cos\\theta$, but that our intensity expects $\\theta$ values."
   ]
  },
  {
   "cell_type": "code",
   "execution_count": null,
   "metadata": {
    "mystnb": {
     "code_prompt_show": "Define uniform phase space sample grade"
    }
   },
   "outputs": [],
   "source": [
    "cos_theta_array, phi_array = np.meshgrid(\n",
    "    np.linspace(-1, +1, num=200),\n",
    "    np.linspace(0, 2 * np.pi, num=400),\n",
    ")\n",
    "theta_array = np.arccos(cos_theta_array)"
   ]
  },
  {
   "cell_type": "markdown",
   "metadata": {},
   "source": [
    "To lambdify to a numerical function, we need to completely unfold our main intensity expression and identify which symbols are to become arguments to our numerical function. These function arguments are then placeholds to data columns (here: $\\theta$ and $\\phi$) and parameters (all remaining symbols)."
   ]
  },
  {
   "cell_type": "code",
   "execution_count": null,
   "metadata": {},
   "outputs": [],
   "source": [
    "free_symbols = sorted(intensity_expr.doit().free_symbols, key=str)\n",
    "amp_symbols = [s for s in free_symbols if isinstance(s, sp.Indexed)]\n",
    "arguments = (theta, phi, Phi, Py, *amp_symbols)\n",
    "plotted_expr = intensity_expr.doit().xreplace({kappa: sp.pi}).expand(func=True)\n",
    "intensity_func = sp.lambdify(arguments, plotted_expr, \"numpy\", cse=True)\n",
    "intensity_func"
   ]
  },
  {
   "cell_type": "markdown",
   "metadata": {},
   "source": [
    "The following code is the most complicated part, but is just there to create a nice user interface for the sliders as well as the interactive visualization..."
   ]
  },
  {
   "cell_type": "code",
   "execution_count": null,
   "metadata": {
    "mystnb": {
     "code_prompt_show": "Define widget sliders"
    },
    "tags": [
     "hide-input",
     "scroll-input"
    ]
   },
   "outputs": [],
   "source": [
    "# Create sliders for each symbol/argument\n",
    "sliders = dict(\n",
    "    Phi_val=w.FloatSlider(\n",
    "        description=\"Φ\",\n",
    "        min=0,\n",
    "        max=np.pi,\n",
    "        value=1,\n",
    "        step=np.pi / 20,\n",
    "    ),\n",
    "    Py_val=w.FloatSlider(\n",
    "        description=\"Pγ\",\n",
    "        min=0,\n",
    "        max=1,\n",
    "        value=1,\n",
    "    ),\n",
    ")\n",
    "for s in free_symbols:\n",
    "    if not isinstance(s, sp.Indexed):\n",
    "        continue\n",
    "    if not s.name.startswith(\"[l]\"):\n",
    "        continue\n",
    "    key = s.name\n",
    "    sliders[f\"{key}_mag\"] = w.FloatSlider(\n",
    "        description=\"magnitude\",\n",
    "        min=0,\n",
    "        max=2,\n",
    "        value=1 if \"+\" in s.name else 0,\n",
    "    )\n",
    "    sliders[f\"{key}_phi\"] = w.FloatSlider(\n",
    "        description=\"phase\",\n",
    "        min=0,\n",
    "        max=2,\n",
    "    )\n",
    "\n",
    "# Group sliders so they can be organised in a layout for the UI\n",
    "l_sliders = defaultdict(list)\n",
    "for key in sliders:\n",
    "    if not key.startswith(\"[l]^{(\"):\n",
    "        continue\n",
    "    if not key.endswith(\"_mag\"):\n",
    "        continue\n",
    "    l_str = key.strip(\"_mag\")\n",
    "    sign = l_str[6]\n",
    "    indices = eval(l_str[9:])\n",
    "    superscript = f\"<sup>({sign})</sup>\"\n",
    "    subscript = f\"<sub>{','.join(f'{i:+d}' if i else str(i) for i in indices)}</sub>\"\n",
    "    label = f\"[𝑙]{superscript}{subscript}\"\n",
    "    row = w.HBox([w.HTML(label), sliders[f\"{l_str}_mag\"], sliders[f\"{l_str}_phi\"]])\n",
    "    l_sliders[sign].append(row)\n",
    "\n",
    "# Create the UI\n",
    "vbox_items = [\n",
    "    sliders[\"Phi_val\"],\n",
    "    sliders[\"Py_val\"],\n",
    "    w.Accordion(\n",
    "        [w.VBox(l_sliders[\"+\"]), w.VBox(l_sliders[\"-\"])],\n",
    "        selected_index=0,\n",
    "        titles=[\"Positive [𝑙]\", \"Negative [𝑙]\"],\n",
    "    ),\n",
    "]\n",
    "UI = w.VBox(vbox_items)"
   ]
  },
  {
   "cell_type": "code",
   "execution_count": null,
   "metadata": {
    "jupyter": {
     "source_hidden": true
    },
    "tags": [
     "hide-input",
     "scroll-input"
    ]
   },
   "outputs": [],
   "source": [
    "%matplotlib widget\n",
    "fig, ax = plt.subplots(figsize=(7, 4))\n",
    "ax.set_xlabel(R\"$\\phi$\")\n",
    "ax.set_ylabel(R\"$\\cos\\theta$\")\n",
    "ax.set_yticks([-1, 0, +1])\n",
    "ax.set_yticklabels([\"-1\", \"0\", \"+1\"])\n",
    "ax.set_xticks([0, np.pi / 2, np.pi, 3 * np.pi / 2, 2 * np.pi])\n",
    "ax.set_xticklabels([\"0\", R\"$\\frac{1}{2}\\pi$\", R\"$\\pi$\", R\"$\\frac{3}{2}\\pi$\", R\"$2\\pi$\"])\n",
    "fig.canvas.toolbar_visible = False\n",
    "fig.canvas.header_visible = False\n",
    "fig.canvas.footer_visible = False\n",
    "\n",
    "MESH = None\n",
    "\n",
    "\n",
    "def plot(*, Phi_val, Py_val, **mag_phase):\n",
    "    global MESH\n",
    "    amplitudes = [\n",
    "        mag * np.exp(mag_phase[f\"{k[:-4]}_phi\"] * 1j)\n",
    "        for k, mag in mag_phase.items()\n",
    "        if k.endswith(\"mag\")\n",
    "    ]\n",
    "    Z = intensity_func(\n",
    "        theta_array,\n",
    "        phi_array,\n",
    "        Phi_val,\n",
    "        Py_val,\n",
    "        *amplitudes,\n",
    "    )\n",
    "\n",
    "    if MESH is None:\n",
    "        MESH = ax.pcolormesh(phi_array, cos_theta_array, Z, cmap=plt.cm.Reds)\n",
    "        c_bar = fig.colorbar(MESH, ax=ax, pad=0.015)\n",
    "        c_bar.ax.get_yaxis().labelpad = 15\n",
    "        c_bar.ax.set_ylabel(\"Intensity (A.U.)\", rotation=270)\n",
    "    else:\n",
    "        MESH.set_array(Z)\n",
    "    Z_max = np.nanmax(Z)\n",
    "    if Z_max > 0.1:\n",
    "        MESH.set_clim(vmin=0, vmax=Z_max)\n",
    "    fig.canvas.draw()\n",
    "\n",
    "\n",
    "fig.tight_layout()\n",
    "output = w.interactive_output(plot, controls=sliders)\n",
    "w.VBox([UI, output])"
   ]
  },
  {
   "cell_type": "code",
   "execution_count": null,
   "metadata": {
    "tags": [
     "remove-cell"
    ]
   },
   "outputs": [],
   "source": [
    "intensity_expr"
   ]
  }
 ],
 "metadata": {
  "colab": {
   "toc_visible": true
  },
  "kernelspec": {
   "display_name": "Python 3 (ipykernel)",
   "language": "python",
   "name": "python3"
  },
  "language_info": {
   "codemirror_mode": {
    "name": "ipython",
    "version": 3
   },
   "file_extension": ".py",
   "mimetype": "text/x-python",
   "name": "python",
   "nbconvert_exporter": "python",
   "pygments_lexer": "ipython3",
   "version": "3.12.11"
  },
  "myst": {
   "all_links_external": true
  }
 },
 "nbformat": 4,
 "nbformat_minor": 4
}
